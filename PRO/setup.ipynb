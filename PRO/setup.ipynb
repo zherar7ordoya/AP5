{
 "cells": [
  {
   "cell_type": "code",
   "execution_count": 1,
   "metadata": {},
   "outputs": [
    {
     "name": "stdout",
     "output_type": "stream",
     "text": [
      "tensorflow version 2.10.0\n",
      "Result: [[12.]]\n"
     ]
    }
   ],
   "source": [
    "import tensorflow as tf \n",
    "print('tensorflow version', tf.__version__)\n",
    " \n",
    "x = [[3.]]\n",
    "y = [[4.]]\n",
    "print('Result: {}'.format(tf.matmul(x, y)))"
   ]
  }
 ],
 "metadata": {
  "kernelspec": {
   "display_name": "Python 3.10.7 64-bit",
   "language": "python",
   "name": "python3"
  },
  "language_info": {
   "codemirror_mode": {
    "name": "ipython",
    "version": 3
   },
   "file_extension": ".py",
   "mimetype": "text/x-python",
   "name": "python",
   "nbconvert_exporter": "python",
   "pygments_lexer": "ipython3",
   "version": "3.10.7"
  },
  "orig_nbformat": 4,
  "vscode": {
   "interpreter": {
    "hash": "267f5a35a4cebc444bd9833b64b4ebd823980b6fdafbeb310ddc6b2debad91ff"
   }
  }
 },
 "nbformat": 4,
 "nbformat_minor": 2
}
